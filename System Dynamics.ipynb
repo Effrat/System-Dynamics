{
 "cells": [
  {
   "cell_type": "markdown",
   "id": "3a16cb27",
   "metadata": {
    "ExecuteTime": {
     "end_time": "2023-01-15T12:52:28.323180Z",
     "start_time": "2023-01-15T12:52:28.320179Z"
    }
   },
   "source": [
    "### Imports"
   ]
  },
  {
   "cell_type": "code",
   "execution_count": 1,
   "id": "9713c045",
   "metadata": {
    "ExecuteTime": {
     "end_time": "2023-01-15T13:43:52.395166Z",
     "start_time": "2023-01-15T13:43:51.730934Z"
    }
   },
   "outputs": [
    {
     "data": {
      "text/html": [
       "        <script type=\"text/javascript\">\n",
       "        window.PlotlyConfig = {MathJaxConfig: 'local'};\n",
       "        if (window.MathJax) {MathJax.Hub.Config({SVG: {font: \"STIX-Web\"}});}\n",
       "        if (typeof require !== 'undefined') {\n",
       "        require.undef(\"plotly\");\n",
       "        requirejs.config({\n",
       "            paths: {\n",
       "                'plotly': ['https://cdn.plot.ly/plotly-2.4.2.min']\n",
       "            }\n",
       "        });\n",
       "        require(['plotly'], function(Plotly) {\n",
       "            window._Plotly = Plotly;\n",
       "        });\n",
       "        }\n",
       "        </script>\n",
       "        "
      ]
     },
     "metadata": {},
     "output_type": "display_data"
    },
    {
     "data": {
      "text/html": [
       "        <script type=\"text/javascript\">\n",
       "        window.PlotlyConfig = {MathJaxConfig: 'local'};\n",
       "        if (window.MathJax) {MathJax.Hub.Config({SVG: {font: \"STIX-Web\"}});}\n",
       "        if (typeof require !== 'undefined') {\n",
       "        require.undef(\"plotly\");\n",
       "        requirejs.config({\n",
       "            paths: {\n",
       "                'plotly': ['https://cdn.plot.ly/plotly-2.4.2.min']\n",
       "            }\n",
       "        });\n",
       "        require(['plotly'], function(Plotly) {\n",
       "            window._Plotly = Plotly;\n",
       "        });\n",
       "        }\n",
       "        </script>\n",
       "        "
      ]
     },
     "metadata": {},
     "output_type": "display_data"
    }
   ],
   "source": [
    "import numpy as np\n",
    "import pandas as pd\n",
    "from plotly.offline import init_notebook_mode, iplot\n",
    "import cufflinks as cf\n",
    "import plotly.express as px\n",
    "init_notebook_mode(connected=True)\n",
    "cf.go_offline()\n",
    "import ipywidgets as widgets"
   ]
  },
  {
   "cell_type": "markdown",
   "id": "89106ce2",
   "metadata": {},
   "source": [
    "### User-defined Parameters"
   ]
  },
  {
   "cell_type": "code",
   "execution_count": 5,
   "id": "193c3ce1",
   "metadata": {
    "ExecuteTime": {
     "end_time": "2023-01-15T14:02:57.162120Z",
     "start_time": "2023-01-15T14:02:57.148121Z"
    }
   },
   "outputs": [],
   "source": [
    "TOATL_PERIODS = 50\n",
    "MAX_POWER = 5\n",
    "DEFAULT_POWER = 2"
   ]
  },
  {
   "cell_type": "markdown",
   "id": "f47c3cf0",
   "metadata": {},
   "source": [
    "### Data Creation"
   ]
  },
  {
   "cell_type": "code",
   "execution_count": 6,
   "id": "e590294e",
   "metadata": {
    "ExecuteTime": {
     "end_time": "2023-01-15T14:02:58.063311Z",
     "start_time": "2023-01-15T14:02:58.024314Z"
    }
   },
   "outputs": [],
   "source": [
    "df = pd.DataFrame(index=range(TOATL_PERIODS))\n",
    "\n",
    "def test_plot(power=DEFAULT_POWER):\n",
    "    df['y'] = df.index ** power\n",
    "    df.iplot()"
   ]
  },
  {
   "cell_type": "code",
   "execution_count": 7,
   "id": "d4b9a25d",
   "metadata": {
    "ExecuteTime": {
     "end_time": "2023-01-15T14:03:00.822528Z",
     "start_time": "2023-01-15T14:03:00.204512Z"
    }
   },
   "outputs": [
    {
     "data": {
      "application/vnd.jupyter.widget-view+json": {
       "model_id": "7f0ff2b411b54d289684f331531ef458",
       "version_major": 2,
       "version_minor": 0
      },
      "text/plain": [
       "interactive(children=(IntSlider(value=2, description='power', max=5, min=1), Output()), _dom_classes=('widget-…"
      ]
     },
     "metadata": {},
     "output_type": "display_data"
    },
    {
     "data": {
      "text/plain": [
       "<function __main__.test_plot(power=2)>"
      ]
     },
     "execution_count": 7,
     "metadata": {},
     "output_type": "execute_result"
    }
   ],
   "source": [
    "widgets.interact(test_plot, power=(1,MAX_POWER, 1))"
   ]
  },
  {
   "cell_type": "code",
   "execution_count": null,
   "id": "617791d7",
   "metadata": {
    "ExecuteTime": {
     "end_time": "2023-01-15T13:43:52.696744Z",
     "start_time": "2023-01-15T13:43:52.696744Z"
    }
   },
   "outputs": [],
   "source": []
  },
  {
   "cell_type": "code",
   "execution_count": null,
   "id": "46493964",
   "metadata": {},
   "outputs": [],
   "source": []
  }
 ],
 "metadata": {
  "kernelspec": {
   "display_name": "Python 3 (ipykernel)",
   "language": "python",
   "name": "python3"
  },
  "language_info": {
   "codemirror_mode": {
    "name": "ipython",
    "version": 3
   },
   "file_extension": ".py",
   "mimetype": "text/x-python",
   "name": "python",
   "nbconvert_exporter": "python",
   "pygments_lexer": "ipython3",
   "version": "3.10.1"
  }
 },
 "nbformat": 4,
 "nbformat_minor": 5
}
